{
 "cells": [
  {
   "cell_type": "code",
   "execution_count": 2,
   "id": "a59f6570",
   "metadata": {},
   "outputs": [
    {
     "name": "stdout",
     "output_type": "stream",
     "text": [
      "++++++++++++++++++++++++++++++\n",
      "+ Name: .................... +\n",
      "+ Center: CodeGym            +\n",
      "+ Course: Python Fundamental +\n",
      "++++++++++++++++++++++++++++++\n"
     ]
    }
   ],
   "source": [
    "print(\"++++++++++++++++++++++++++++++\")\n",
    "print(\"+ Name: .................... +\")\n",
    "print(\"+ Center: CodeGym            +\")\n",
    "print(\"+ Course: Python Fundamental +\")\n",
    "print(\"++++++++++++++++++++++++++++++\")"
   ]
  }
 ],
 "metadata": {
  "kernelspec": {
   "display_name": "Python 3 (ipykernel)",
   "language": "python",
   "name": "python3"
  },
  "language_info": {
   "codemirror_mode": {
    "name": "ipython",
    "version": 3
   },
   "file_extension": ".py",
   "mimetype": "text/x-python",
   "name": "python",
   "nbconvert_exporter": "python",
   "pygments_lexer": "ipython3",
   "version": "3.8.10"
  }
 },
 "nbformat": 4,
 "nbformat_minor": 5
}
